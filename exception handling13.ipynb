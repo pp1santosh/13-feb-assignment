{
 "cells": [
  {
   "cell_type": "code",
   "execution_count": null,
   "id": "929a56b4-3e42-4432-bb39-e1a317b11088",
   "metadata": {},
   "outputs": [],
   "source": [
    "#sol1. we use Base class so that we can pass user defined error message using super keyword while handling exception.\n",
    "import logging\n",
    "\n",
    "class InvalidAgeException(Exception):\n",
    "    def __init__(self, age):\n",
    "        self.age = age\n",
    "        super().__init__(f\"Invalid age: {age}\")\n",
    "\n",
    "def register_user(name, age):\n",
    "    if age < 18:\n",
    "        raise InvalidAgeException(age)\n",
    "    # registration logic here\n",
    "\n",
    "try:\n",
    "    register_user(\"John\", 15)\n",
    "except InvalidAgeException as e:\n",
    "    logging.warning(e)"
   ]
  },
  {
   "cell_type": "code",
   "execution_count": null,
   "id": "4108c758-c6b9-4c35-a9b1-74e28f172e56",
   "metadata": {},
   "outputs": [],
   "source": [
    "#2. pleaseprovide solution i dint know"
   ]
  },
  {
   "cell_type": "code",
   "execution_count": 1,
   "id": "b5b770dd-bec8-4f2a-a6b3-f0ba83c67450",
   "metadata": {},
   "outputs": [
    {
     "name": "stdin",
     "output_type": "stream",
     "text": [
      "enter a number 5\n"
     ]
    },
    {
     "name": "stderr",
     "output_type": "stream",
     "text": [
      "INFO:root:here is the result 10.0\n"
     ]
    },
    {
     "name": "stdin",
     "output_type": "stream",
     "text": [
      "enter 1st 5\n",
      "enter second digit 5\n"
     ]
    },
    {
     "name": "stderr",
     "output_type": "stream",
     "text": [
      "INFO:root:10.0\n"
     ]
    }
   ],
   "source": [
    "#3.The arithmetic error occurs when an error is encountered during numeric calculations in Python. This includes Zerodivision Error and Floating point error.\n",
    "import logging\n",
    "logging.basicConfig(level=logging.DEBUG)\n",
    "#  zero division error\n",
    "try:\n",
    "    x=int(input(\"enter a number\"))\n",
    "    if x==0:\n",
    "        raise ZeroDivisionError(\"the result is undefined\")\n",
    "    else:\n",
    "        y=50/x\n",
    "        logging.info(\"here is the result %s\",y)\n",
    "except ZeroDivisionError as e:\n",
    "    logging.warning(e)\n",
    "\n",
    " # floting point error\n",
    "try:\n",
    "    x=float(input(\"enter 1st\"))\n",
    "    y=int(input(\"enter second digit\"))\n",
    "    if x>0 and x<1:\n",
    "        raise FloatingPointError(\"can not give accurate value\")\n",
    "    else:\n",
    "        logging.info(x+y)\n",
    "except FloatingPointError as r:\n",
    "    logging.info(r)\n",
    "    "
   ]
  },
  {
   "cell_type": "code",
   "execution_count": null,
   "id": "f72d2836-743a-45af-9785-d8fdbe459056",
   "metadata": {},
   "outputs": [],
   "source": []
  },
  {
   "cell_type": "code",
   "execution_count": 12,
   "id": "fe14cd73-824c-4932-9ba4-5f402602f820",
   "metadata": {},
   "outputs": [
    {
     "name": "stdin",
     "output_type": "stream",
     "text": [
      "enter a number 4\n"
     ]
    },
    {
     "name": "stderr",
     "output_type": "stream",
     "text": [
      "INFO:root:index out of reach\n"
     ]
    },
    {
     "name": "stdin",
     "output_type": "stream",
     "text": [
      "enter a key rde\n"
     ]
    },
    {
     "name": "stderr",
     "output_type": "stream",
     "text": [
      "INFO:root:'index out of reach'\n"
     ]
    }
   ],
   "source": [
    "#4.lookup error class is used when something can't be found specially index value or key value.\n",
    "import logging\n",
    "logging.basicConfig(level=logging.DEBUG)\n",
    "l1=['hey',123,'age']\n",
    "dict1={'age':32,'name':'santosh','fee':3500}\n",
    "try:\n",
    "    x=int(input(\"enter a number\"))\n",
    "    if x>=len(l1):\n",
    "        raise IndexError(\"index out of reach\")\n",
    "    else:\n",
    "        logging.info(l1[x])\n",
    "except IndexError as n:\n",
    "    logging.info(n)\n",
    "    \n",
    "  # key error exception \n",
    "try:\n",
    "    x=str(input(\"enter a key\"))\n",
    "    for z in dict1:\n",
    "        if x!=z:\n",
    "            raise KeyError(\"index out of reach\")\n",
    "        else:\n",
    "            logging.warning(dict1[x])\n",
    "except KeyError as l:\n",
    "    logging.info(l)\n",
    "    \n",
    "\n",
    "    \n",
    "    \n"
   ]
  },
  {
   "cell_type": "code",
   "execution_count": null,
   "id": "412ffe95-c7c9-482b-b3db-393eb31de3d6",
   "metadata": {},
   "outputs": [],
   "source": [
    "#5.import error occours when some package ,file or module doesnot exist and we try to use it in our code.\n",
    "#this error occurs when you're trying to access or use a module that cannot be found.\n"
   ]
  },
  {
   "cell_type": "code",
   "execution_count": null,
   "id": "42b09b60-67fa-4b87-90c5-546a597fccec",
   "metadata": {},
   "outputs": [],
   "source": [
    "#6 sol\n",
    "#a.It makes our code independent from parts where their is a probability of exception or error.\n",
    "#b.we should always use specific type of exception to handle run time error.\n",
    "#c.Exception base class should be always used at last becuse if it gets executed 1st then other will be discarded.\n"
   ]
  },
  {
   "cell_type": "code",
   "execution_count": 6,
   "id": "796cbc57-feba-416a-a909-2d2375aa979a",
   "metadata": {},
   "outputs": [
    {
     "ename": "IndexError",
     "evalue": "list index out of range",
     "output_type": "error",
     "traceback": [
      "\u001b[0;31m---------------------------------------------------------------------------\u001b[0m",
      "\u001b[0;31mIndexError\u001b[0m                                Traceback (most recent call last)",
      "Cell \u001b[0;32mIn[6], line 2\u001b[0m\n\u001b[1;32m      1\u001b[0m l1\u001b[38;5;241m=\u001b[39m[\u001b[38;5;124m'\u001b[39m\u001b[38;5;124mhey\u001b[39m\u001b[38;5;124m'\u001b[39m,\u001b[38;5;241m123\u001b[39m,\u001b[38;5;124m'\u001b[39m\u001b[38;5;124mage\u001b[39m\u001b[38;5;124m'\u001b[39m]\n\u001b[0;32m----> 2\u001b[0m \u001b[43ml1\u001b[49m\u001b[43m[\u001b[49m\u001b[38;5;241;43m3\u001b[39;49m\u001b[43m]\u001b[49m\n",
      "\u001b[0;31mIndexError\u001b[0m: list index out of range"
     ]
    }
   ],
   "source": [
    "l1=['hey',123,'age']\n",
    "l1[3]"
   ]
  }
 ],
 "metadata": {
  "kernelspec": {
   "display_name": "Python 3 (ipykernel)",
   "language": "python",
   "name": "python3"
  },
  "language_info": {
   "codemirror_mode": {
    "name": "ipython",
    "version": 3
   },
   "file_extension": ".py",
   "mimetype": "text/x-python",
   "name": "python",
   "nbconvert_exporter": "python",
   "pygments_lexer": "ipython3",
   "version": "3.10.8"
  }
 },
 "nbformat": 4,
 "nbformat_minor": 5
}
